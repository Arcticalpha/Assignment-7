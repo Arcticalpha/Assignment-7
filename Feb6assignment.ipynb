{
 "cells": [
  {
   "cell_type": "markdown",
   "id": "537f5118-8980-4262-b99d-6ddc8bdee3d2",
   "metadata": {},
   "source": [
    "Q1. Create a function which will take a list as an argument and return the product of all the numbers\n",
    "after creating a flat list.\n",
    "Use the below-given list as an argument for your function.\n",
    "* list1 = [1,2,3,4, [44,55,66, True], False, (34,56,78,89,34), {1,2,3,3,2,1}, {1:34, \"key2\": [55, 67, 78, 89], 4: (45,22, 61, 34)}, [56, 'data science'], 'Machine Learning']\n",
    "* Note: you must extract numeric keys and values of the dictionary also."
   ]
  },
  {
   "cell_type": "code",
   "execution_count": 7,
   "id": "751f493c-dfbe-4640-a06d-5fecf814c752",
   "metadata": {},
   "outputs": [
    {
     "name": "stdout",
     "output_type": "stream",
     "text": [
      "Product of list1 is 19679733278309744640\n"
     ]
    }
   ],
   "source": [
    "def product(lst):\n",
    "    flat_list = []\n",
    "    for item in lst:\n",
    "        if isinstance(item,(list,tuple,set)):\n",
    "            flat_list.extend([i for i in item if isinstance(i,(int,float))])\n",
    "        elif isinstance(item,dict):\n",
    "            flat_list.extend([v for k,v in item.items() if isinstance(v,(int,float))])\n",
    "        elif isinstance(item,(int,float)) and not isinstance(item, bool):\n",
    "            flat_list.append(item)\n",
    "    prod = 1\n",
    "    for i in flat_list:\n",
    "        prod *= i\n",
    "    return prod\n",
    "\n",
    "list1 = [1,2,3,4, [44,55,66, True], False, (34,56,78,89,34), {1,2,3,3,2,1}, {1:34, \"key2\": [55, 67, 78, 89], 4: (45,22, 61, 34)}, [56, 'data science'], 'Machine Learning']\n",
    "p = product(list1)\n",
    "print(\"Product of list1 is\",p)\n"
   ]
  },
  {
   "cell_type": "markdown",
   "id": "e5749efc-915f-4e30-b1fc-4f400945b9ce",
   "metadata": {},
   "source": [
    "Q2. Write a python program for encrypting a message sent to you by your friend. The logic of encryption should be such that, for a the output should be z. For b, the output should be y. For c, the output should be x respectively. Also, the whitespace should be replaced with a dollar sign. Keep the punctuation marks unchanged.\n",
    "* Input Sentence: I want to become a Data Scientist.\n",
    "* Encrypt the above input sentence using the program you just created.\n",
    "* Note: Convert the given input sentence into lowercase before encrypting. The final output should be lowercase."
   ]
  },
  {
   "cell_type": "code",
   "execution_count": 4,
   "id": "664db3f7-c107-4083-bf93-bb57d7b1c3cf",
   "metadata": {},
   "outputs": [
    {
     "name": "stdout",
     "output_type": "stream",
     "text": [
      "r$dzmg$gl$yvxlnv$z$wzgz$hxrvmgrhg.\n"
     ]
    }
   ],
   "source": [
    "def encrypt(enc):\n",
    "    encrypted = \"\"\n",
    "    for char in enc.lower():\n",
    "        if char.isalpha():\n",
    "            encrypted += chr(ord('z')-(ord(char)-ord('a')))\n",
    "        elif char.isspace():\n",
    "            encrypted += '$'\n",
    "        else:\n",
    "            encrypted += char\n",
    "    return encrypted\n",
    "bef_enc = \"I want to become a Data Scientist.\"\n",
    "aft_enc = encrypt(bef_enc)\n",
    "print(aft_enc)"
   ]
  },
  {
   "cell_type": "code",
   "execution_count": null,
   "id": "d4c584c9-32c4-4a75-8385-4faa9639c8cd",
   "metadata": {},
   "outputs": [],
   "source": []
  }
 ],
 "metadata": {
  "kernelspec": {
   "display_name": "Python 3 (ipykernel)",
   "language": "python",
   "name": "python3"
  },
  "language_info": {
   "codemirror_mode": {
    "name": "ipython",
    "version": 3
   },
   "file_extension": ".py",
   "mimetype": "text/x-python",
   "name": "python",
   "nbconvert_exporter": "python",
   "pygments_lexer": "ipython3",
   "version": "3.10.8"
  }
 },
 "nbformat": 4,
 "nbformat_minor": 5
}
